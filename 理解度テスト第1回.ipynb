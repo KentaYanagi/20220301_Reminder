{
  "nbformat": 4,
  "nbformat_minor": 0,
  "metadata": {
    "kernelspec": {
      "display_name": "Python 3",
      "language": "python",
      "name": "python3"
    },
    "language_info": {
      "codemirror_mode": {
        "name": "ipython",
        "version": 3
      },
      "file_extension": ".py",
      "mimetype": "text/x-python",
      "name": "python",
      "nbconvert_exporter": "python",
      "pygments_lexer": "ipython3",
      "version": "3.7.4"
    },
    "colab": {
      "provenance": [],
      "include_colab_link": true
    }
  },
  "cells": [
    {
      "cell_type": "markdown",
      "metadata": {
        "id": "view-in-github",
        "colab_type": "text"
      },
      "source": [
        "<a href=\"https://colab.research.google.com/github/KentaYanagi/20220301_Reminder/blob/main/%E7%90%86%E8%A7%A3%E5%BA%A6%E3%83%86%E3%82%B9%E3%83%88%E7%AC%AC1%E5%9B%9E.ipynb\" target=\"_parent\"><img src=\"https://colab.research.google.com/assets/colab-badge.svg\" alt=\"Open In Colab\"/></a>"
      ]
    },
    {
      "cell_type": "markdown",
      "metadata": {
        "id": "TzJTZtvE8Pyi"
      },
      "source": [
        "# スプリングセミナー生成モデル 第1回 宿題"
      ]
    },
    {
      "cell_type": "markdown",
      "metadata": {
        "id": "WEjo789q8Pyo"
      },
      "source": [
        "## 課題\n",
        "今回の課題は確認クイズです。\n",
        "\n",
        "上から回答していくとcsv提出用csv `submission_pred.csv`が作成されます。\n",
        "提出期限までにomnicampusに提出してください。\n",
        "\n",
        "**採点は締め切り後に一回だけ行われます。**\n",
        "（**即時採点ではありません。**）"
      ]
    },
    {
      "cell_type": "markdown",
      "metadata": {
        "id": "-Rsy-_mn8Pyp"
      },
      "source": [
        "この部分は修正しないでください"
      ]
    },
    {
      "cell_type": "code",
      "metadata": {
        "id": "D1YEKFg_8Pyq"
      },
      "source": [
        "import numpy as np\n",
        "import pandas as pd\n",
        "\n",
        "NUM_EXAMPLE_QUESTIONS = 1\n",
        "example = np.zeros(NUM_EXAMPLE_QUESTIONS,int)\n",
        "\n",
        "NUM_QUESTIONS = 10\n",
        "myanswer = np.zeros(NUM_QUESTIONS,int)"
      ],
      "execution_count": null,
      "outputs": []
    },
    {
      "cell_type": "markdown",
      "metadata": {
        "id": "_Jx-kQ9n8Pyr"
      },
      "source": [
        "### 回答方法\n",
        "各$\\fbox{　(　)　}$に当てはまるものとして最も適切なものを1つずつ選んでください。\n",
        "\n",
        "**例題**\n",
        "\n",
        "「深層学習/Deep Learning応用講座 – 生成モデル」の講義では$\\fbox{　(0)　}$の技術に関して基礎的なアルゴリズムを幅広く利用可能で最先端の手法も理解し、実装することができることを目的とする。\n",
        "\n",
        "1. 言語モデル\n",
        "2. 生成モデル\n",
        "3. 強化学習\n",
        "4. ビジネスモデル\n",
        "\n",
        "正しい回答を「生成モデル」とすると、以下のように0番目に2を数字で回答します．"
      ]
    },
    {
      "cell_type": "markdown",
      "metadata": {
        "id": "_rtiLn6Y8Pys"
      },
      "source": [
        "```python\n",
        "example[0] = 2\n",
        "\n",
        "```"
      ]
    },
    {
      "cell_type": "markdown",
      "metadata": {
        "id": "1772jOC68Pys"
      },
      "source": [
        "### 確認クイズ"
      ]
    },
    {
      "cell_type": "markdown",
      "metadata": {
        "id": "mQbqua-B8Pyt"
      },
      "source": [
        "**Q1 データ分布（真の分布）と経験分布の説明として最も適切なものを選択せよ**\n",
        "\n",
        "1. 経験分布はデータ点の数が増えると、誤差が蓄積されてデータ分布から遠ざかる\n",
        "2. 真の分布を手に入れることは出来ないので、経験分布による損失を最小化するようにモデルを学習することで高い汎化性を実現出来る\n",
        "3. 訓練データは経験分布から生成されたものである\n",
        "4. 訓練データに対する最尤推定は、経験分布と生成モデルの間のKLダイバージェンス最小化と等価である\n",
        "\n",
        "回答: $\\fbox{　(0)　}$\n",
        "\n",
        "**Q2 KLダイバージェンスが厳密な距離関数とは言えない理由として最も適切なものを選択せよ**\n",
        "\n",
        "1. 対称性を満たさない為\n",
        "2. 非負性を満たさない為\n",
        "3. 異なる分布に対して値が0となる為\n",
        "4. 同一の分布に対して値が0にならない為\n",
        "\n",
        "回答: $\\fbox{　(1)　}$\n",
        "\n",
        "**Q3 コインの表が出る確率をベルヌーイ分布でモデリングし、最尤推定でパラメータを推定したところ、p=1「全て表が出る」という推論結果になった。このような状況を回避するために最も適切な方法を選択せよ**\n",
        "\n",
        "1. コインの投げ方が悪いので投げ方を変える\n",
        "2. コインを投げる回数が少ないので増やす\n",
        "3. ベルヌーイ分布が良くないので、混合ベルヌーイ分布を用いる\n",
        "4. 必ず表が出るコインである、という事を事実として受け入れる\n",
        "\n",
        "回答: $\\fbox{　(2)　}$\n",
        "\n",
        "**Q4 グラフィカルモデルの説明について最も適切なものを選択せよ**\n",
        "\n",
        "1. 多次元データに対して、各データ点の各次元の間の相関関係をグラフで表したもの\n",
        "2. 各変数間の依存関係をグラフで表したもの\n",
        "3. 各潜在変数間の因果関係をグラフで表したもの\n",
        "4. 学習時における損失関数の推移をグラフで表したもの\n",
        "\n",
        "回答: $\\fbox{　(3)　}$\n",
        "\n",
        "**Q5 混合分布に対して尤度最大化問題を解析的に解くのが困難である理由として最も適切なものを選択せよ**\n",
        "1. 対数の中に総和があり、解析的に解けない為\n",
        "2. パラメータが多くなるので、計算量が爆発する為\n",
        "3. 潜在変数が観測できない為\n",
        "　4. そもそも「最尤推定で解くのが難しい」というのが誤り\n",
        "\n",
        "回答: $\\fbox{　(4)　}$\n",
        "\n",
        "**Q6 潜在変数モデルの対数周辺尤度関数は以下の2つの項の和に分解できる。その2項として適切なものを選択せよ**\n",
        "1. KLダイバージェンスと負担率\n",
        "2. エビデンス下界とラグランジュ乗数\n",
        "3. KLダイバージェンスとエビデンス下界\n",
        "4. 負担率とラグランジュ乗数\n",
        "\n",
        "回答: $\\fbox{　(5)　}$\n",
        "\n",
        "**Q7 負担率の説明として最も適切なものを選択せよ**\n",
        "1. 各データ点に対する潜在変数の事後確率\n",
        "2. 各データ点に対する各混合要素の確率密度関数の値\n",
        "3. 各データ点間のコサイン類似度\n",
        "4. 各データ点に対する分布に関するパラメータの事後確率\n",
        "\n",
        "回答: $\\fbox{　(6)　}$\n",
        "\n",
        "**Q8 EMアルゴリズムのMステップの説明として最も適切なものを選択せよ**\n",
        "1. 収束判定を行う\n",
        "2. エビデンス下界を最大化する\n",
        "3. KLダイバージェンスを最小化する\n",
        "4. 負担率を計算する\n",
        "\n",
        "回答: $\\fbox{　(7)　}$\n",
        "\n",
        "**Q9 EMアルゴリズムの特性として最も「適切でない」ものを選択せよ**\n",
        "1. 大域的最適解への収束性が保証されている\n",
        "2. 1ステップごとの対数尤度が非減少であることが保証されている\n",
        "3. 負担率が計算困難な場合にはEMアルゴリズムを用いるのが難しい\n",
        "4. クラスタリングに用いることが出来る\n",
        "\n",
        "回答: $\\fbox{　(8)　}$\n",
        "\n",
        "**Q10 生成モデルと識別モデルの関係性について最も「適切でない」ものを選択せよ**\n",
        "1. 識別モデルと比較して、生成モデルの学習コストは高い\n",
        "2. 生成モデルを用いることで密度推定が可能だが、識別モデルでは困難\n",
        "3. どちらのモデルも与えられた観測変数xから事後確率p(y|x)を推論することが出来る\n",
        "4. 識別モデルから生成モデルを求めることが出来る\n",
        "\n",
        "回答: $\\fbox{　(9)　}$\n",
        "\n",
        "\n"
      ]
    },
    {
      "cell_type": "code",
      "metadata": {
        "id": "UbUB8ge78Pyt"
      },
      "source": [
        "myanswer[0] = # WRITE ME\n",
        "myanswer[1] = # WRITE ME\n",
        "myanswer[2] = # WRITE ME\n",
        "myanswer[3] = # WRITE ME\n",
        "myanswer[4] = # WRITE ME\n",
        "myanswer[5] = # WRITE ME\n",
        "myanswer[6] = # WRITE ME\n",
        "myanswer[7] = # WRITE ME\n",
        "myanswer[8] = # WRITE ME\n",
        "myanswer[9] = # WRITE ME"
      ],
      "execution_count": null,
      "outputs": []
    },
    {
      "cell_type": "code",
      "source": [
        "if not np.any(myanswer==0):\n",
        "    submission = pd.Series(myanswer, name='label')\n",
        "    submission.to_csv('/content/submission_pred.csv', header=True, index_label='id')\n",
        "else:\n",
        "    print('Error: please answer all of the questions')"
      ],
      "metadata": {
        "id": "bzBjejdRx3A_"
      },
      "execution_count": null,
      "outputs": []
    },
    {
      "cell_type": "code",
      "source": [],
      "metadata": {
        "id": "08GmEUFKyPOd"
      },
      "execution_count": null,
      "outputs": []
    }
  ]
}